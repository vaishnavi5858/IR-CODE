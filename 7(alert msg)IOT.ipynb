{
 "cells": [
  {
   "cell_type": "markdown",
   "id": "68a84ef8",
   "metadata": {},
   "source": [
    " Write a program for sending alert messages to the user for controlling and interacting with your \n",
    "environment. "
   ]
  },
  {
   "cell_type": "code",
   "execution_count": null,
   "id": "e28446c2",
   "metadata": {},
   "outputs": [],
   "source": [
    "import smtplib\n",
    "import ssl\n",
    "import RPi.GPIO as G\n",
    "import time\n",
    "inp =  35\n",
    "G.setwarnings(False)\n",
    "G.setmode(G.BOARD)\n",
    "G.setup(inp,G.IN)\n",
    "#Your SMTP server\n",
    "host = \"smtp.gmail.com\"\n",
    "port = 465\n",
    "\n",
    "#Your credentials\n",
    "login = \"Sender@mail.com\"\n",
    "password = \"** ** ** **\" #enter your own code\n",
    "\n",
    "#Build your email\n",
    "context = ssl.create_default_context()\n",
    "dest = \"receive@mail.com\"\n",
    "subject = \"Test email Python\"\n",
    "body = \"Paresh Detected\"\n",
    "\n",
    "\n",
    "\n",
    "email = \"Subject: detection\\nTo: receive@mail.com\\nFrom: Sender@mail.com\\nMotion detected\"\n",
    "\n",
    "#Send email\n",
    "while True:\n",
    "    time.sleep(1)\n",
    "    if(G.input(inp)):\n",
    "        print(\"Detected\")\n",
    "        with smtplib.SMTP_SSL(host, port, context=context) as server:\n",
    "            server.login(login, password)\n",
    "            server.sendmail(login, dest, email)\n",
    "            break"
   ]
  }
 ],
 "metadata": {
  "kernelspec": {
   "display_name": "Python 3 (ipykernel)",
   "language": "python",
   "name": "python3"
  },
  "language_info": {
   "codemirror_mode": {
    "name": "ipython",
    "version": 3
   },
   "file_extension": ".py",
   "mimetype": "text/x-python",
   "name": "python",
   "nbconvert_exporter": "python",
   "pygments_lexer": "ipython3",
   "version": "3.11.4"
  }
 },
 "nbformat": 4,
 "nbformat_minor": 5
}
