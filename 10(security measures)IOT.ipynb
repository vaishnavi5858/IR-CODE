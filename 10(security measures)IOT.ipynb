{
 "cells": [
  {
   "cell_type": "markdown",
   "id": "21618d26",
   "metadata": {},
   "source": [
    "Write a program for implementing security measures in an IIoT system"
   ]
  },
  {
   "cell_type": "code",
   "execution_count": 1,
   "id": "bc565f73",
   "metadata": {},
   "outputs": [
    {
     "ename": "SyntaxError",
     "evalue": "invalid syntax (2242575699.py, line 3)",
     "output_type": "error",
     "traceback": [
      "\u001b[1;36m  Cell \u001b[1;32mIn[1], line 3\u001b[1;36m\u001b[0m\n\u001b[1;33m    const byte ROWS = 4; //four rows\u001b[0m\n\u001b[1;37m          ^\u001b[0m\n\u001b[1;31mSyntaxError\u001b[0m\u001b[1;31m:\u001b[0m invalid syntax\n"
     ]
    }
   ],
   "source": [
    "#include <Keypad.h>\n",
    "\n",
    "const byte ROWS = 4; //four rows\n",
    "const byte COLS = 4; //four columns\n",
    "char keys[ROWS][COLS] = {\n",
    "  {'1', '2', '3', 'A'},\n",
    "  {'4', '5', '6', 'B'},\n",
    "  {'7', '8', '9', 'C'},\n",
    "  {'*', '0', '#', 'D'}\n",
    "};\n",
    "byte rowPins[ROWS] = {9, 8, 7, 6}; //connect to the row pinouts of the keypad\n",
    "byte colPins[COLS] = {5, 4, 3, 2}; //connect to the column pinouts of the keypad\n",
    "//Create an object of keypad\n",
    "Keypad keypad = Keypad(makeKeymap(keys), rowPins, colPins, ROWS, COLS);\n",
    "\n",
    "int buzzer = 11; // the pin that the buzzer is attached to\n",
    "int sensor = 10; // the pin that the sensor is attached to\n",
    "int val = 0;\n",
    "unsigned long previousMillis = 0; // will store last time buzzer was updated\n",
    "const long interval = 1000; // interval at which to blink (milliseconds)\n",
    "bool motionDetected = false;\n",
    "bool codeEntered = false;\n",
    "\n",
    "const int codeLength = 4;\n",
    "char correctCode[codeLength] = {'1', '2', '3', '4'};\n",
    "char enteredCode[codeLength];\n",
    "int currentPos = 0;\n",
    "unsigned long startTime = 0;\n",
    "\n",
    "void setup() {\n",
    "  pinMode(buzzer, OUTPUT); // initialize buzzer as an output\n",
    "  pinMode(sensor, INPUT); // initialize sensor as an input\n",
    "  Serial.begin(9600); // initialize serial\n",
    "}\n",
    "\n",
    "void pir() {\n",
    "  val = digitalRead(sensor); // read sensor value\n",
    "  if (val == HIGH) { // check if the sensor is HIGH\n",
    "    if (!motionDetected) {\n",
    "      startTime = millis(); // start the timer\n",
    "      motionDetected = true;\n",
    "      Serial.println(\"Motion detected!\");\n",
    "    }\n",
    "  }\n",
    "}\n",
    "\n",
    "void loop() {\n",
    "  pir();\n",
    "  char key = keypad.getKey(); // Read the key\n",
    "  // Print if key pressed\n",
    "\n",
    "  if (key) {\n",
    "    Serial.print(\"Key Pressed : \");\n",
    "    Serial.println(key);\n",
    "    if (!codeEntered) {\n",
    "      enteredCode[currentPos] = key;\n",
    "      currentPos++;\n",
    "      if (currentPos == codeLength) {\n",
    "        currentPos = 0;\n",
    "        if (checkCode()) {\n",
    "          Serial.println(\"Code entered correctly!\");\n",
    "          codeEntered = true;\n",
    "          noTone(buzzer); // turn off the buzzer\n",
    "        }\n",
    "      }\n",
    "    }\n",
    "  }\n",
    "\n",
    "  if (motionDetected && !codeEntered && (millis() - startTime > 4000)) {\n",
    "    tone(buzzer, 1000); // turn on the buzzer at 1000 Hz\n",
    "  }\n",
    "}\n",
    "\n",
    "bool checkCode() {\n",
    "  for (int i = 0; i < codeLength; i++) {\n",
    "    if (enteredCode[i] != correctCode[i]) {\n",
    "      return false;\n",
    "    }\n",
    "  }\n",
    "  return true;\n",
    "}\n"
   ]
  },
  {
   "cell_type": "code",
   "execution_count": null,
   "id": "c1d575d4",
   "metadata": {},
   "outputs": [],
   "source": []
  }
 ],
 "metadata": {
  "kernelspec": {
   "display_name": "Python 3 (ipykernel)",
   "language": "python",
   "name": "python3"
  },
  "language_info": {
   "codemirror_mode": {
    "name": "ipython",
    "version": 3
   },
   "file_extension": ".py",
   "mimetype": "text/x-python",
   "name": "python",
   "nbconvert_exporter": "python",
   "pygments_lexer": "ipython3",
   "version": "3.11.4"
  }
 },
 "nbformat": 4,
 "nbformat_minor": 5
}
