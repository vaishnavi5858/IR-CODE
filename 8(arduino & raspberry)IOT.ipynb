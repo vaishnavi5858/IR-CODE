{
 "cells": [
  {
   "cell_type": "markdown",
   "id": "a61632e9",
   "metadata": {},
   "source": [
    "Arduino Code (using an Arduino Uno)"
   ]
  },
  {
   "cell_type": "code",
   "execution_count": 2,
   "id": "bca3d37c",
   "metadata": {},
   "outputs": [
    {
     "ename": "SyntaxError",
     "evalue": "invalid syntax (3259996311.py, line 1)",
     "output_type": "error",
     "traceback": [
      "\u001b[1;36m  Cell \u001b[1;32mIn[2], line 1\u001b[1;36m\u001b[0m\n\u001b[1;33m    int pirPin = 2;\u001b[0m\n\u001b[1;37m        ^\u001b[0m\n\u001b[1;31mSyntaxError\u001b[0m\u001b[1;31m:\u001b[0m invalid syntax\n"
     ]
    }
   ],
   "source": [
    "int pirPin = 2;  \n",
    "int ledPin = 13; \n",
    "\n",
    "void setup() {\n",
    "  pinMode(pirPin, INPUT);\n",
    "  pinMode(ledPin, OUTPUT);\n",
    "  Serial.begin(9600);\n",
    "}\n",
    "\n",
    "void loop() {\n",
    "  int pirState = digitalRead(pirPin);\n",
    "  \n",
    "  if (pirState == HIGH) {\n",
    "    digitalWrite(ledPin, HIGH); \n",
    "    Serial.println(\"Motion detected!\");\n",
    "  } else {\n",
    "    digitalWrite(ledPin, LOW); \n",
    "    Serial.println(\"No motion detected.\");\n",
    "  }\n",
    "  delay(1000); \n",
    "}\n"
   ]
  },
  {
   "cell_type": "markdown",
   "id": "fd99c046",
   "metadata": {},
   "source": [
    "Raspberry Pi Code (Python)"
   ]
  },
  {
   "cell_type": "code",
   "execution_count": 3,
   "id": "5cebdd11",
   "metadata": {},
   "outputs": [
    {
     "ename": "ModuleNotFoundError",
     "evalue": "No module named 'RPi'",
     "output_type": "error",
     "traceback": [
      "\u001b[1;31m---------------------------------------------------------------------------\u001b[0m",
      "\u001b[1;31mModuleNotFoundError\u001b[0m                       Traceback (most recent call last)",
      "Cell \u001b[1;32mIn[3], line 1\u001b[0m\n\u001b[1;32m----> 1\u001b[0m \u001b[38;5;28;01mimport\u001b[39;00m \u001b[38;5;21;01mRPi\u001b[39;00m\u001b[38;5;21;01m.\u001b[39;00m\u001b[38;5;21;01mGPIO\u001b[39;00m \u001b[38;5;28;01mas\u001b[39;00m \u001b[38;5;21;01mGPIO\u001b[39;00m\n\u001b[0;32m      2\u001b[0m \u001b[38;5;28;01mimport\u001b[39;00m \u001b[38;5;21;01mtime\u001b[39;00m\n\u001b[0;32m      4\u001b[0m pirPin \u001b[38;5;241m=\u001b[39m \u001b[38;5;241m17\u001b[39m  \u001b[38;5;66;03m# PIR sensor's output pin\u001b[39;00m\n",
      "\u001b[1;31mModuleNotFoundError\u001b[0m: No module named 'RPi'"
     ]
    }
   ],
   "source": [
    "import RPi.GPIO as GPIO\n",
    "import time\n",
    "\n",
    "pirPin = 17  # PIR sensor's output pin\n",
    "ledPin = 18  # LED to indicate motion\n",
    "\n",
    "GPIO.setmode(GPIO.BCM)\n",
    "GPIO.setup(pirPin, GPIO.IN)\n",
    "GPIO.setup(ledPin, GPIO.OUT)\n",
    "\n",
    "try:\n",
    "    while True:\n",
    "        pirState = GPIO.input(pirPin)\n",
    "        if pirState == 1:\n",
    "            GPIO.output(ledPin, 1)  # Turn on the LED\n",
    "            print(\"Motion detected!\")\n",
    "        else:\n",
    "            GPIO.output(ledPin, 0)  # Turn off the LED\n",
    "            print(\"No motion detected!\")\n",
    "        time.sleep(1)\n",
    "except KeyboardInterrupt:\n",
    "    GPIO.cleanup()\n"
   ]
  },
  {
   "cell_type": "code",
   "execution_count": null,
   "id": "f9dd9dd4",
   "metadata": {},
   "outputs": [],
   "source": []
  }
 ],
 "metadata": {
  "kernelspec": {
   "display_name": "Python 3 (ipykernel)",
   "language": "python",
   "name": "python3"
  },
  "language_info": {
   "codemirror_mode": {
    "name": "ipython",
    "version": 3
   },
   "file_extension": ".py",
   "mimetype": "text/x-python",
   "name": "python",
   "nbconvert_exporter": "python",
   "pygments_lexer": "ipython3",
   "version": "3.11.4"
  }
 },
 "nbformat": 4,
 "nbformat_minor": 5
}
