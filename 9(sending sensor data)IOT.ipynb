{
 "cells": [
  {
   "cell_type": "markdown",
   "id": "7450bc42",
   "metadata": {},
   "source": [
    "Write a program for sending sensor data to the cloud and storing it in a database"
   ]
  },
  {
   "cell_type": "code",
   "execution_count": null,
   "id": "5e924336",
   "metadata": {},
   "outputs": [],
   "source": [
    "import http.client , urllib.request,urllib.parse\n",
    "key = ' ' # copy the write API key\n",
    "\n",
    "t=int(22)\n",
    "\n",
    "while True:\n",
    "    t=t+1\n",
    "    print (\"temperature\",t)\n",
    "    params=urllib.parse.urlencode({'field1':t,'key':key})\n",
    "    headers={\"Content-type\":\"application/x-www-form-urlencoded\",\"Accept\":\"text/plain\"}\n",
    "    con=http.client.HTTPConnection(\"api.thingspeak.com\")\n",
    "    con.request(\"POST\",\"/update\",params,headers)\n",
    "    response=con.getresponse()\n",
    "    print (response.status,response.reason)\n",
    "    data=response.read()\n",
    "    con.close()"
   ]
  }
 ],
 "metadata": {
  "kernelspec": {
   "display_name": "Python 3 (ipykernel)",
   "language": "python",
   "name": "python3"
  },
  "language_info": {
   "codemirror_mode": {
    "name": "ipython",
    "version": 3
   },
   "file_extension": ".py",
   "mimetype": "text/x-python",
   "name": "python",
   "nbconvert_exporter": "python",
   "pygments_lexer": "ipython3",
   "version": "3.11.4"
  }
 },
 "nbformat": 4,
 "nbformat_minor": 5
}
